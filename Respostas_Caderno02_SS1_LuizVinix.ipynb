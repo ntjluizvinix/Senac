{
  "nbformat": 4,
  "nbformat_minor": 0,
  "metadata": {
    "colab": {
      "provenance": []
    },
    "kernelspec": {
      "name": "python3",
      "display_name": "Python 3"
    },
    "language_info": {
      "name": "python"
    }
  },
  "cells": [
    {
      "cell_type": "code",
      "source": [
        "print (\"Olá, Mundo\")"
      ],
      "metadata": {
        "colab": {
          "base_uri": "https://localhost:8080/"
        },
        "id": "Pvg4vi7IovCJ",
        "outputId": "55248ef5-2ac3-4c70-cbf0-1db1852fe6b3"
      },
      "execution_count": 2,
      "outputs": [
        {
          "output_type": "stream",
          "name": "stdout",
          "text": [
            "Olá, Mundo\n"
          ]
        }
      ]
    },
    {
      "cell_type": "code",
      "source": [
        "nome = \"Maria\"\n",
        "print (nome)"
      ],
      "metadata": {
        "colab": {
          "base_uri": "https://localhost:8080/"
        },
        "id": "_kT0tv1to0-I",
        "outputId": "c9cd2b84-2b86-4cc0-df9d-7fcb806f678b"
      },
      "execution_count": 3,
      "outputs": [
        {
          "output_type": "stream",
          "name": "stdout",
          "text": [
            "Maria\n"
          ]
        }
      ]
    },
    {
      "cell_type": "code",
      "source": [
        "num = int(input (\"Informe um número: \"))\n",
        "print (f\"O tipo da variável é: {type(num)}\")"
      ],
      "metadata": {
        "colab": {
          "base_uri": "https://localhost:8080/"
        },
        "id": "mLwocmANpO7q",
        "outputId": "cdf5a4e4-b03e-4a36-d8ee-99d122b853ba"
      },
      "execution_count": 21,
      "outputs": [
        {
          "output_type": "stream",
          "name": "stdout",
          "text": [
            "Informe um número: 7\n",
            "O tipo da variável é: <class 'int'>\n"
          ]
        }
      ]
    },
    {
      "cell_type": "code",
      "source": [
        "a = 10\n",
        "b = 5\n",
        "\n",
        "soma = a + b\n",
        "subtracao = a - b\n",
        "multiplicacao = a * b\n",
        "divisao = a / b\n",
        "\n",
        "print (f\"A soma é: {soma}\")\n",
        "print (f\"A sobtração é: {subtracao}\")\n",
        "print (f\"A multiplicação é: {multiplicacao}\")\n",
        "print (f\"A divisão é: {divisao}\")"
      ],
      "metadata": {
        "colab": {
          "base_uri": "https://localhost:8080/"
        },
        "id": "7FLdv7SPsQvB",
        "outputId": "9ab38c87-d819-4275-eff3-43bcdcb50c6e"
      },
      "execution_count": 22,
      "outputs": [
        {
          "output_type": "stream",
          "name": "stdout",
          "text": [
            "A soma é: 15\n",
            "A sobtração é: 5\n",
            "A multiplicação é: 50\n",
            "A divisão é: 2.0\n"
          ]
        }
      ]
    },
    {
      "cell_type": "code",
      "source": [
        "num1 = float(input(\"Informe um número: \"))\n",
        "num2 = float(input(\"Informe outro número: \"))\n",
        "num3 = num1 + num2\n",
        "print (f\"A soma desses números é: {num3}\")"
      ],
      "metadata": {
        "colab": {
          "base_uri": "https://localhost:8080/"
        },
        "id": "GcoCZfkhtm2Z",
        "outputId": "537e6627-3e85-4ac0-eb7f-d247e67f0eee"
      },
      "execution_count": 26,
      "outputs": [
        {
          "output_type": "stream",
          "name": "stdout",
          "text": [
            "Informe um número: 10\n",
            "Informe outro número: 8\n",
            "A soma desses números é: 18.0\n"
          ]
        }
      ]
    },
    {
      "cell_type": "code",
      "source": [
        "idade = int(input(\"Informe sua idade: \"))\n",
        "if idade >= 18:\n",
        "  print(\"Você é maior de idade :)\")\n",
        "else:\n",
        "  print(\"Você é menor de idade :)\")"
      ],
      "metadata": {
        "colab": {
          "base_uri": "https://localhost:8080/"
        },
        "id": "D4Q-Qh-huQdm",
        "outputId": "9f64e8a7-7fb2-45ca-9f6b-f60eaaa598a7"
      },
      "execution_count": 32,
      "outputs": [
        {
          "output_type": "stream",
          "name": "stdout",
          "text": [
            "Informe sua idade: 18\n",
            "Você é maior de idade :)\n"
          ]
        }
      ]
    },
    {
      "cell_type": "code",
      "source": [
        "num = int(input(\"Informe um número: \"))\n",
        "if num % 2 == 0:\n",
        "  print(f\"O número informado: {num} é par!\")\n",
        "else:\n",
        "  print(f\"O número informado: {num} é impar!\")"
      ],
      "metadata": {
        "colab": {
          "base_uri": "https://localhost:8080/"
        },
        "id": "e12klRKOvmGn",
        "outputId": "b6203890-6b1f-4ea3-b2a5-46eca6db42fa"
      },
      "execution_count": 39,
      "outputs": [
        {
          "output_type": "stream",
          "name": "stdout",
          "text": [
            "Informe um número: 1\n",
            "O número informado: 1 é impar!\n"
          ]
        }
      ]
    },
    {
      "cell_type": "code",
      "source": [
        "idade = int(input(\"Informe sua idade \"))\n",
        "if idade < 18:\n",
        "  print(\"Você é menor de idade! \")\n",
        "elif idade <= 65:\n",
        "  print(\"Você está na Juventude :) \")\n",
        "else:\n",
        "  print(\"Você tem mais de 65 anos, olha... já pode se aposentar! \")"
      ],
      "metadata": {
        "colab": {
          "base_uri": "https://localhost:8080/"
        },
        "id": "r8_0ewvRwmMk",
        "outputId": "7bf6e175-2ace-44ee-ad9b-d833ec14a598"
      },
      "execution_count": 46,
      "outputs": [
        {
          "output_type": "stream",
          "name": "stdout",
          "text": [
            "Informe sua idade 66\n",
            "Você tem mais de 65 anos, olha... já pode se aposentar! \n"
          ]
        }
      ]
    }
  ]
}