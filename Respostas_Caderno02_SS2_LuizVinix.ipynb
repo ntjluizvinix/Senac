{
  "nbformat": 4,
  "nbformat_minor": 0,
  "metadata": {
    "colab": {
      "provenance": []
    },
    "kernelspec": {
      "name": "python3",
      "display_name": "Python 3"
    },
    "language_info": {
      "name": "python"
    }
  },
  "cells": [
    {
      "cell_type": "code",
      "source": [
        "idade = int(input(\"Informe sua idade: \"))\n",
        "if idade >= 18:\n",
        "  print(\"Você é maior de idade :)\")\n",
        "else:\n",
        "  print(\"Você é menor de idade :)\")"
      ],
      "metadata": {
        "colab": {
          "base_uri": "https://localhost:8080/"
        },
        "id": "D4Q-Qh-huQdm",
        "outputId": "9f64e8a7-7fb2-45ca-9f6b-f60eaaa598a7"
      },
      "execution_count": null,
      "outputs": [
        {
          "output_type": "stream",
          "name": "stdout",
          "text": [
            "Informe sua idade: 18\n",
            "Você é maior de idade :)\n"
          ]
        }
      ]
    },
    {
      "cell_type": "code",
      "source": [
        "nota = float(input(\"Informe sua nota: \"))\n",
        "if nota >= 6:\n",
        "  print(\"Você foi aprovado, Parabêns!\")\n",
        "else:\n",
        "  print(\"Você foi reprovado, mais sorte na próxima vez!\")"
      ],
      "metadata": {
        "colab": {
          "base_uri": "https://localhost:8080/"
        },
        "id": "4gW5fRTi0Y31",
        "outputId": "5d8e55af-c61c-4bd8-a993-aaa9440f7c5b"
      },
      "execution_count": null,
      "outputs": [
        {
          "output_type": "stream",
          "name": "stdout",
          "text": [
            "Informe sua nota: 10\n",
            "Você foi aprovado, Parabêns!\n"
          ]
        }
      ]
    },
    {
      "cell_type": "code",
      "source": [
        "num = int(input(\"Informe um número: \"))\n",
        "if num > 0:\n",
        "  print(\"Esse número é positivo!\")\n",
        "elif num < 0:\n",
        "  print(\"Esse número é negativo!\")\n",
        "else:\n",
        "  print(\"Esse número é nulo!\")"
      ],
      "metadata": {
        "colab": {
          "base_uri": "https://localhost:8080/"
        },
        "id": "QI6NrdyU279g",
        "outputId": "b05b2197-7fe1-46ed-9aa7-c0e68bef6141"
      },
      "execution_count": null,
      "outputs": [
        {
          "output_type": "stream",
          "name": "stdout",
          "text": [
            "Informe um número: 0\n",
            "Esse número é nulo!\n"
          ]
        }
      ]
    },
    {
      "cell_type": "code",
      "source": [
        "num1 = int(input(\"Infome um número: \"))\n",
        "num2 = int(input(\"Informe outro número: \"))\n",
        "if num1 > num2:\n",
        "  print(f\"{num1} é maior que {num2}\")\n",
        "else:\n",
        "  print(f\"{num2} é maior que {num1}\")"
      ],
      "metadata": {
        "colab": {
          "base_uri": "https://localhost:8080/"
        },
        "id": "Yhw7L3au4KW2",
        "outputId": "9a059a1a-03b6-426b-dd8c-3a679698cf18"
      },
      "execution_count": null,
      "outputs": [
        {
          "output_type": "stream",
          "name": "stdout",
          "text": [
            "Infome um número: 7\n",
            "Informe outro número: 10\n",
            "10 é maior que 7\n"
          ]
        }
      ]
    },
    {
      "cell_type": "code",
      "source": [
        "operacao = input(\"Informe a operação (+, -, *, /): \")\n",
        "\n",
        "num1 = int(input(\"Informe um número: \"))\n",
        "num2 = int(input(\"Informe outro número: \"))\n",
        "\n",
        "if operacao == \"+\":\n",
        "    resultado = num1 + num2\n",
        "elif operacao == \"-\":\n",
        "    resultado = num1 - num2\n",
        "elif operacao == \"*\":\n",
        "    resultado = num1 * num2\n",
        "elif operacao == \"/\":\n",
        "    resultado = num1 / num2\n",
        "else:\n",
        "    resultado = \"Operação inválida!\"\n",
        "\n",
        "\n",
        "print(f\"O resultado de {num1} {operacao} {num2} é {resultado}\")\n"
      ],
      "metadata": {
        "colab": {
          "base_uri": "https://localhost:8080/"
        },
        "id": "iA4n5cMQoF5r",
        "outputId": "bb44bd61-1aec-4d8c-a056-d9a5a5f4793a"
      },
      "execution_count": 12,
      "outputs": [
        {
          "output_type": "stream",
          "name": "stdout",
          "text": [
            "Informe a operação (+, -, *, /): /\n",
            "Informe um número: 10\n",
            "Informe outro número: 10\n",
            "O resultado de 10 / 10 é 1.0\n"
          ]
        }
      ]
    },
    {
      "cell_type": "code",
      "source": [
        "def vereficar_positivo(numero):\n",
        "    return num1 % 2 == 0 and num1 > 0\n",
        "\n",
        "num1 = int(input(\"Informe um número: \"))\n",
        "if vereficar_positivo(num1):\n",
        "    print(f\"O número {num1} é par e positivo!\")\n",
        "else:\n",
        "    print(f\"O número {num1} não é par mas é positivo!\")"
      ],
      "metadata": {
        "colab": {
          "base_uri": "https://localhost:8080/"
        },
        "id": "fs3hC-jypEzx",
        "outputId": "84215757-0b18-4be2-be54-03d085471364"
      },
      "execution_count": 42,
      "outputs": [
        {
          "output_type": "stream",
          "name": "stdout",
          "text": [
            "Informe um número: 10\n",
            "O número 10 é par e positivo!\n"
          ]
        }
      ]
    },
    {
      "cell_type": "code",
      "source": [
        "idade = int(input(\"Informe sua idade: \"))\n",
        "if idade <= 12:\n",
        "  print(f\"Pela sua idade informada ({idade}) você é uma criança!\")\n",
        "elif idade >= 17:\n",
        "  print(f\"Pela sua idade informada ({idade}) você é um adulto!\")\n",
        "else:\n",
        "  print(f\"Pela sua idade informada ({idade}) você é adolescente!\")"
      ],
      "metadata": {
        "colab": {
          "base_uri": "https://localhost:8080/"
        },
        "id": "DoMsnFE8qOiS",
        "outputId": "7c6f2491-29ed-4040-fbe9-9d6c0bf33166"
      },
      "execution_count": 19,
      "outputs": [
        {
          "output_type": "stream",
          "name": "stdout",
          "text": [
            "Informe sua idade: 18\n",
            "Pela sua idade informada (18) você é um adulto!\n"
          ]
        }
      ]
    },
    {
      "cell_type": "code",
      "source": [
        "resultado = (2+3)*4-5/2*(2+3)*4-5/2\n",
        "print(resultado)"
      ],
      "metadata": {
        "colab": {
          "base_uri": "https://localhost:8080/"
        },
        "id": "GarEgwMQuNka",
        "outputId": "f401169a-4527-47f6-df16-2cc9c5bbca05"
      },
      "execution_count": 23,
      "outputs": [
        {
          "output_type": "stream",
          "name": "stdout",
          "text": [
            "-32.5\n"
          ]
        }
      ]
    },
    {
      "cell_type": "code",
      "source": [
        "base1 = 2\n",
        "base2 = base1 * base1\n",
        "print(f\"O quadrado desse número é: {base2}\")"
      ],
      "metadata": {
        "colab": {
          "base_uri": "https://localhost:8080/"
        },
        "id": "Hj1r2U1Hso_N",
        "outputId": "332e390d-a410-44b1-fbb9-18a185f86e27"
      },
      "execution_count": 21,
      "outputs": [
        {
          "output_type": "stream",
          "name": "stdout",
          "text": [
            "O quadrado desse número é: 4\n"
          ]
        }
      ]
    },
    {
      "cell_type": "code",
      "source": [
        "import math\n",
        "\n",
        "raio = 5\n",
        "area = math.pi * raio ** 2\n",
        "print(\"A área do círculo com raio 5 é:\", area)\n"
      ],
      "metadata": {
        "colab": {
          "base_uri": "https://localhost:8080/"
        },
        "id": "JsOvwutOtkRs",
        "outputId": "5f1a8fad-170c-4bda-e917-aaa565b2580b"
      },
      "execution_count": 24,
      "outputs": [
        {
          "output_type": "stream",
          "name": "stdout",
          "text": [
            "A área do círculo com raio 5 é: 78.53981633974483\n"
          ]
        }
      ]
    }
  ]
}