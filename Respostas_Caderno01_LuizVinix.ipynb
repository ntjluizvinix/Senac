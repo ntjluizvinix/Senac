{
  "nbformat": 4,
  "nbformat_minor": 0,
  "metadata": {
    "colab": {
      "provenance": []
    },
    "kernelspec": {
      "name": "python3",
      "display_name": "Python 3"
    },
    "language_info": {
      "name": "python"
    }
  },
  "cells": [
    {
      "cell_type": "code",
      "execution_count": 1,
      "metadata": {
        "colab": {
          "base_uri": "https://localhost:8080/"
        },
        "id": "PRCCDXwDHC6O",
        "outputId": "64c0e9f7-d5d4-4754-91cb-02022bb24413"
      },
      "outputs": [
        {
          "output_type": "stream",
          "name": "stdout",
          "text": [
            "Python é alto nível!\n",
            "Python é fortemente tipada!\n",
            "Python é multiparadigma!\n",
            "Python é interpretada!\n",
            "É Case Sensitive!\n"
          ]
        }
      ],
      "source": [
        "print (\"Python é alto nível!\")\n",
        "print (\"Python é fortemente tipada!\")\n",
        "print (\"Python é multiparadigma!\")\n",
        "print (\"Python é interpretada!\")\n",
        "print (\"É Case Sensitive!\")"
      ]
    },
    {
      "cell_type": "code",
      "source": [],
      "metadata": {
        "id": "WvVCqKwrJJso"
      },
      "execution_count": null,
      "outputs": []
    },
    {
      "cell_type": "code",
      "execution_count": 2,
      "metadata": {
        "colab": {
          "base_uri": "https://localhost:8080/"
        },
        "outputId": "5a246796-6636-416b-b3ec-aa48e66dbb61",
        "id": "A3S0l_w0JY1I"
      },
      "outputs": [
        {
          "output_type": "stream",
          "name": "stdout",
          "text": [
            "Estou aprendendo Python\n",
            "Estou aprendendo Python\n",
            "Estou aprendendo Python\n",
            "Estou aprendendo Python\n",
            "Estou aprendendo Python\n"
          ]
        }
      ],
      "source": [
        "print (\"Estou aprendendo Python\")\n",
        "print (\"Estou aprendendo Python\")\n",
        "print (\"Estou aprendendo Python\")\n",
        "print (\"Estou aprendendo Python\")\n",
        "print (\"Estou aprendendo Python\")"
      ]
    },
    {
      "cell_type": "code",
      "source": [
        "print (\"Python \\n Maravilha!\")"
      ],
      "metadata": {
        "colab": {
          "base_uri": "https://localhost:8080/"
        },
        "id": "nnXF5bdOJku1",
        "outputId": "7ede92b5-60d3-46cd-a49c-61559a9295f7"
      },
      "execution_count": 3,
      "outputs": [
        {
          "output_type": "stream",
          "name": "stdout",
          "text": [
            "Python \n",
            " Maravilha!\n"
          ]
        }
      ]
    },
    {
      "cell_type": "code",
      "source": [
        "print (\"Python pode usar \\t tabulação!\")"
      ],
      "metadata": {
        "colab": {
          "base_uri": "https://localhost:8080/"
        },
        "id": "iuO13NvlJ9xy",
        "outputId": "83a33a84-19da-4174-9c90-ec5332cf8ed2"
      },
      "execution_count": 4,
      "outputs": [
        {
          "output_type": "stream",
          "name": "stdout",
          "text": [
            "Python pode usar \t tabulação!\n"
          ]
        }
      ]
    },
    {
      "cell_type": "code",
      "source": [
        "print (\"No Python equivale \\r um enter!\")"
      ],
      "metadata": {
        "colab": {
          "base_uri": "https://localhost:8080/"
        },
        "id": "nPeOCY1-KSe1",
        "outputId": "da4c8bbc-6a17-44f5-be79-91cbc7ebddb1"
      },
      "execution_count": 5,
      "outputs": [
        {
          "output_type": "stream",
          "name": "stdout",
          "text": [
            "No Python equivale \r um enter!\n"
          ]
        }
      ]
    },
    {
      "cell_type": "code",
      "source": [
        "print (\"Imprima o \\' \")"
      ],
      "metadata": {
        "colab": {
          "base_uri": "https://localhost:8080/"
        },
        "id": "QSM2iK8DKeFN",
        "outputId": "07dfe6d8-b75a-426f-c0c0-ee4a9e7ffe69"
      },
      "execution_count": 6,
      "outputs": [
        {
          "output_type": "stream",
          "name": "stdout",
          "text": [
            "Imprima o ' \n"
          ]
        }
      ]
    },
    {
      "cell_type": "code",
      "source": [
        "print (\"Python é uma \", end= \"#####\")\n",
        "print (\" Maravilha!\")"
      ],
      "metadata": {
        "colab": {
          "base_uri": "https://localhost:8080/"
        },
        "id": "g_PIm07gKrpI",
        "outputId": "070b86d7-5346-4754-ecb8-1b8db2ea9fe8"
      },
      "execution_count": 8,
      "outputs": [
        {
          "output_type": "stream",
          "name": "stdout",
          "text": [
            "Python é uma ##### Maravilha!\n"
          ]
        }
      ]
    },
    {
      "cell_type": "code",
      "source": [
        "print (\"A\", \"B\", \"C\", \"D\", 0, sep=\"*\")"
      ],
      "metadata": {
        "colab": {
          "base_uri": "https://localhost:8080/"
        },
        "id": "CHCw79lELAeq",
        "outputId": "0ddd53d5-02b9-42df-df16-bdc26f0b2ae6"
      },
      "execution_count": 9,
      "outputs": [
        {
          "output_type": "stream",
          "name": "stdout",
          "text": [
            "A*B*C*D*0\n"
          ]
        }
      ]
    },
    {
      "cell_type": "code",
      "source": [],
      "metadata": {
        "id": "pW7O6fY9LOyR"
      },
      "execution_count": null,
      "outputs": []
    },
    {
      "cell_type": "code",
      "source": [
        "print (\"A\", \"B\", \"C\", \"D\", 0, sep=\"\\n\")"
      ],
      "metadata": {
        "colab": {
          "base_uri": "https://localhost:8080/"
        },
        "outputId": "cac03b41-19d0-4e0e-f3e2-6062ccea4f45",
        "id": "ZC_HjfX2LSCr"
      },
      "execution_count": 10,
      "outputs": [
        {
          "output_type": "stream",
          "name": "stdout",
          "text": [
            "A\n",
            "B\n",
            "C\n",
            "D\n",
            "0\n"
          ]
        }
      ]
    },
    {
      "cell_type": "code",
      "source": [
        "print(\"      *\")\n",
        "print(\"     ***\")\n",
        "print(\"    *****\")\n",
        "print(\"   *******\")\n",
        "print(\"  *********\")\n",
        "print(\" ***********\")\n",
        "print(\"     ***\")\n",
        "print(\"     ***\")"
      ],
      "metadata": {
        "colab": {
          "base_uri": "https://localhost:8080/"
        },
        "id": "iNoweuEYLZAw",
        "outputId": "4eabe82a-acbf-407d-f0bf-449735e29971"
      },
      "execution_count": 41,
      "outputs": [
        {
          "output_type": "stream",
          "name": "stdout",
          "text": [
            "      *\n",
            "     ***\n",
            "    *****\n",
            "   *******\n",
            "  *********\n",
            " ***********\n",
            "     ***\n",
            "     ***\n"
          ]
        }
      ]
    },
    {
      "cell_type": "code",
      "source": [
        "x=1\n",
        "y=2.0\n",
        "soma = 5+5\n",
        "nome = \"Luiz\"\n",
        "sobrenome = \"Vinix\"\n",
        "ligado = True\n",
        "\n",
        "print(f\"{x},{y},{soma},{nome},{sobrenome},{ligado}\")\n",
        "print(f\"{type(x)}, {type(y)}, {type(soma)}, {type(nome)}, {type(sobrenome)}, {type(ligado)}\")"
      ],
      "metadata": {
        "colab": {
          "base_uri": "https://localhost:8080/"
        },
        "id": "Lzjj1usVNp6I",
        "outputId": "5d465484-439e-4936-d649-9719ef71933f"
      },
      "execution_count": 42,
      "outputs": [
        {
          "output_type": "stream",
          "name": "stdout",
          "text": [
            "1,2.0,10,Luiz,Vinix,True\n",
            "<class 'int'>, <class 'float'>, <class 'int'>, <class 'str'>, <class 'str'>, <class 'bool'>\n"
          ]
        }
      ]
    },
    {
      "cell_type": "code",
      "source": [
        "nome = 10\n",
        "LuizVinix = 45\n",
        "desligado = \"sim\"\n",
        "\n",
        "print(type(nome))\n",
        "print(type(LuizVinix))\n",
        "print(type(desligado))"
      ],
      "metadata": {
        "colab": {
          "base_uri": "https://localhost:8080/"
        },
        "id": "ZJQrxsYqOrfq",
        "outputId": "7afaf4a9-46d9-415b-c859-49aead1df4a2"
      },
      "execution_count": 43,
      "outputs": [
        {
          "output_type": "stream",
          "name": "stdout",
          "text": [
            "<class 'int'>\n",
            "<class 'int'>\n",
            "<class 'str'>\n"
          ]
        }
      ]
    },
    {
      "cell_type": "code",
      "source": [
        "valor = 2.718281\n",
        "print (f\"Formatando casas decimais: {valor:.2f}\")"
      ],
      "metadata": {
        "colab": {
          "base_uri": "https://localhost:8080/"
        },
        "id": "qd3QZxAiPSC_",
        "outputId": "5f191abb-70c8-4a3e-f37b-d765dc07655f"
      },
      "execution_count": 44,
      "outputs": [
        {
          "output_type": "stream",
          "name": "stdout",
          "text": [
            "Formatando casas decimais: 2.72\n"
          ]
        }
      ]
    },
    {
      "cell_type": "code",
      "source": [
        "valor = 3.14159265358979323846\n",
        "print (f\"Formatando casas decimais de PI: {valor:.2f}\")"
      ],
      "metadata": {
        "colab": {
          "base_uri": "https://localhost:8080/"
        },
        "id": "FQarN7p7Pm0t",
        "outputId": "b4be99e4-7c0d-4beb-d6db-107718495f71"
      },
      "execution_count": 46,
      "outputs": [
        {
          "output_type": "stream",
          "name": "stdout",
          "text": [
            "Formatando casas decimais de PI: 3.14\n"
          ]
        }
      ]
    },
    {
      "cell_type": "code",
      "source": [
        "delta = 1\n",
        "\n",
        "if delta > 0:\n",
        "    print(\"O valor é maior que zero\")\n",
        "elif delta < 0:\n",
        "    print(\"O valor é menor que zero\")\n",
        "else:\n",
        "    print(\"O valor é igual a zero\")\n"
      ],
      "metadata": {
        "colab": {
          "base_uri": "https://localhost:8080/"
        },
        "id": "hhU1CqtWQEJW",
        "outputId": "b0296505-da91-462f-ede3-4e0cf634c81d"
      },
      "execution_count": 52,
      "outputs": [
        {
          "output_type": "stream",
          "name": "stdout",
          "text": [
            "O valor é maior que zero\n"
          ]
        }
      ]
    },
    {
      "cell_type": "code",
      "source": [
        "matrix_4x3 = 21, 22, 23, 24, 25, 26, 27, 28, 29, 30, 31, 32, 33\n",
        "print (matrix_4x3)"
      ],
      "metadata": {
        "colab": {
          "base_uri": "https://localhost:8080/"
        },
        "id": "2r_ShIhyRYl1",
        "outputId": "f940f44b-99a4-4624-97ac-e8d95690f915"
      },
      "execution_count": 53,
      "outputs": [
        {
          "output_type": "stream",
          "name": "stdout",
          "text": [
            "(21, 22, 23, 24, 25, 26, 27, 28, 29, 30, 31, 32, 33)\n"
          ]
        }
      ]
    },
    {
      "cell_type": "code",
      "source": [
        "global_var = 10\n",
        "\n",
        "def minha_funcao():\n",
        "  local_var = 20\n",
        "  print(\"Variável local dentro da função:\", local_var)\n",
        "  print(\"Variável global dentro da função:\", global_var)\n",
        "\n",
        "minha_funcao()\n",
        "print (\"Variável global dentro da função:\", global_var)"
      ],
      "metadata": {
        "colab": {
          "base_uri": "https://localhost:8080/"
        },
        "id": "JL2I37FXSOsU",
        "outputId": "21f9b37a-d043-4b7b-f9ae-63e538143f60"
      },
      "execution_count": 56,
      "outputs": [
        {
          "output_type": "stream",
          "name": "stdout",
          "text": [
            "Variável local dentro da função: 20\n",
            "Variável global dentro da função: 10\n",
            "Variável global dentro da função: 10\n"
          ]
        }
      ]
    },
    {
      "cell_type": "code",
      "source": [
        "#Cite dois tipos de variáveis que você pode usar em funçoes:\n",
        "#.Tipo1: Variável Local\n",
        "#.Tipo2: Variável Global"
      ],
      "metadata": {
        "id": "XU2bGfafUDpz"
      },
      "execution_count": null,
      "outputs": []
    }
  ]
}